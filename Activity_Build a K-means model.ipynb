{
 "cells": [
  {
   "cell_type": "markdown",
   "metadata": {
    "id": "700acefd-8120-42a9-a650-c610467e2a4c"
   },
   "source": [
    "# Activity: Build a K-means model \n",
    "\n",
    "## **Introduction**\n",
    "\n",
    "K-means clustering is very effective when segmenting data and attempting to find patterns. Because clustering is used in a broad array of industries, becoming proficient in this process will help you expand your skillset in a widely applicable way.   \n",
    "\n",
    "In this activity, you are a consultant for a scientific organization that works to support and sustain penguin colonies. You are tasked with helping other staff members learn more about penguins in order to achieve this mission. \n",
    "\n",
    "The data for this activity is in a spreadsheet that includes datapoints across a sample size of 345 penguins, such as species, island, and sex. Your will use a K-means clustering model to group this data and identify patterns that provide important insights about penguins.\n",
    "\n",
    "**Note:** Because this lab uses a real dataset, this notebook will first require basic EDA, data cleaning, and other manipulations to prepare the data for modeling. "
   ]
  },
  {
   "cell_type": "markdown",
   "metadata": {
    "id": "b42252b9-b980-4ee0-8cfd-82f4239b6d1a"
   },
   "source": [
    "## **Step 1: Imports** \n"
   ]
  },
  {
   "cell_type": "markdown",
   "metadata": {
    "id": "oz38PANKW0ys"
   },
   "source": [
    "Import statements including `K-means`, `silhouette_score`, and `StandardScaler`."
   ]
  },
  {
   "cell_type": "code",
   "execution_count": 1,
   "metadata": {
    "id": "aacf7b0d-d652-46c4-a9fc-f1ff377bdd0c"
   },
   "outputs": [],
   "source": [
    "# Import standard operational packages.\n",
    "import numpy as np\n",
    "import pandas as pd\n",
    "\n",
    "# Important tools for modeling and evaluation.\n",
    "from sklearn.cluster import KMeans\n",
    "from sklearn.metrics import silhouette_score\n",
    "from sklearn.preprocessing import StandardScaler\n",
    "\n",
    "# Import visualization packages.\n",
    "import matplotlib.pyplot as plt\n",
    "import seaborn as sns"
   ]
  },
  {
   "cell_type": "markdown",
   "metadata": {
    "id": "a60990fd-4723-4a2b-a0db-9dfa6c7c881c"
   },
   "source": [
    "`Pandas` is used to load the penguins dataset, which is built into the `seaborn` library. The resulting `pandas` DataFrame is saved in a variable named `penguins`. As shown in this cell, the dataset has been automatically loaded in for you. You do not need to download the .csv file, or provide more code, in order to access the dataset and proceed with this lab. Please continue with this activity by completing the following instructions."
   ]
  },
  {
   "cell_type": "code",
   "execution_count": 21,
   "metadata": {
    "id": "80535d2f-8b1a-4715-b07a-f3734d8cc4c5"
   },
   "outputs": [],
   "source": [
    "# RUN THIS CELL TO IMPORT YOUR DATA. \n",
    "\n",
    "# Save the `pandas` DataFrame in variable `penguins`. \n",
    "\n",
    "### YOUR CODE HERE ###\n",
    "\n",
    "penguins = pd.read_csv(\"penguins.csv\")"
   ]
  },
  {
   "cell_type": "markdown",
   "metadata": {},
   "source": [
    "<details>\n",
    "  <summary><h4><strong>Hint 1</strong></h4></summary>\n",
    "\n",
    "Use the `load_dataset` function. \n",
    "\n",
    "</details>"
   ]
  },
  {
   "cell_type": "markdown",
   "metadata": {
    "id": "0irW2qcaah5S"
   },
   "source": [
    "<details>\n",
    "  <summary><h4><strong>Hint 2</strong></h4></summary>\n",
    "\n",
    "The function is from seaborn (`sns`). It should be passed in the dataset name `'penguins'` as a string. \n",
    "\n",
    "</details>"
   ]
  },
  {
   "cell_type": "markdown",
   "metadata": {
    "id": "46448192-f2f8-4f78-9f76-6e4bb699da7b"
   },
   "source": [
    "Now, review the first 10 rows of data.\n"
   ]
  },
  {
   "cell_type": "code",
   "execution_count": 3,
   "metadata": {
    "id": "U8JZjN-zJwx6"
   },
   "outputs": [
    {
     "data": {
      "text/html": [
       "<div>\n",
       "<style scoped>\n",
       "    .dataframe tbody tr th:only-of-type {\n",
       "        vertical-align: middle;\n",
       "    }\n",
       "\n",
       "    .dataframe tbody tr th {\n",
       "        vertical-align: top;\n",
       "    }\n",
       "\n",
       "    .dataframe thead th {\n",
       "        text-align: right;\n",
       "    }\n",
       "</style>\n",
       "<table border=\"1\" class=\"dataframe\">\n",
       "  <thead>\n",
       "    <tr style=\"text-align: right;\">\n",
       "      <th></th>\n",
       "      <th>species</th>\n",
       "      <th>island</th>\n",
       "      <th>bill_length_mm</th>\n",
       "      <th>bill_depth_mm</th>\n",
       "      <th>flipper_length_mm</th>\n",
       "      <th>body_mass_g</th>\n",
       "      <th>sex</th>\n",
       "    </tr>\n",
       "  </thead>\n",
       "  <tbody>\n",
       "    <tr>\n",
       "      <th>0</th>\n",
       "      <td>Adelie</td>\n",
       "      <td>Torgersen</td>\n",
       "      <td>39.1</td>\n",
       "      <td>18.7</td>\n",
       "      <td>181.0</td>\n",
       "      <td>3750.0</td>\n",
       "      <td>male</td>\n",
       "    </tr>\n",
       "    <tr>\n",
       "      <th>1</th>\n",
       "      <td>Adelie</td>\n",
       "      <td>Torgersen</td>\n",
       "      <td>39.5</td>\n",
       "      <td>17.4</td>\n",
       "      <td>186.0</td>\n",
       "      <td>3800.0</td>\n",
       "      <td>female</td>\n",
       "    </tr>\n",
       "    <tr>\n",
       "      <th>2</th>\n",
       "      <td>Adelie</td>\n",
       "      <td>Torgersen</td>\n",
       "      <td>40.3</td>\n",
       "      <td>18.0</td>\n",
       "      <td>195.0</td>\n",
       "      <td>3250.0</td>\n",
       "      <td>female</td>\n",
       "    </tr>\n",
       "    <tr>\n",
       "      <th>3</th>\n",
       "      <td>Adelie</td>\n",
       "      <td>Torgersen</td>\n",
       "      <td>NaN</td>\n",
       "      <td>NaN</td>\n",
       "      <td>NaN</td>\n",
       "      <td>NaN</td>\n",
       "      <td>NaN</td>\n",
       "    </tr>\n",
       "    <tr>\n",
       "      <th>4</th>\n",
       "      <td>Adelie</td>\n",
       "      <td>Torgersen</td>\n",
       "      <td>36.7</td>\n",
       "      <td>19.3</td>\n",
       "      <td>193.0</td>\n",
       "      <td>3450.0</td>\n",
       "      <td>female</td>\n",
       "    </tr>\n",
       "    <tr>\n",
       "      <th>5</th>\n",
       "      <td>Adelie</td>\n",
       "      <td>Torgersen</td>\n",
       "      <td>39.3</td>\n",
       "      <td>20.6</td>\n",
       "      <td>190.0</td>\n",
       "      <td>3650.0</td>\n",
       "      <td>male</td>\n",
       "    </tr>\n",
       "    <tr>\n",
       "      <th>6</th>\n",
       "      <td>Adelie</td>\n",
       "      <td>Torgersen</td>\n",
       "      <td>38.9</td>\n",
       "      <td>17.8</td>\n",
       "      <td>181.0</td>\n",
       "      <td>3625.0</td>\n",
       "      <td>female</td>\n",
       "    </tr>\n",
       "    <tr>\n",
       "      <th>7</th>\n",
       "      <td>Adelie</td>\n",
       "      <td>Torgersen</td>\n",
       "      <td>39.2</td>\n",
       "      <td>19.6</td>\n",
       "      <td>195.0</td>\n",
       "      <td>4675.0</td>\n",
       "      <td>male</td>\n",
       "    </tr>\n",
       "    <tr>\n",
       "      <th>8</th>\n",
       "      <td>Adelie</td>\n",
       "      <td>Torgersen</td>\n",
       "      <td>34.1</td>\n",
       "      <td>18.1</td>\n",
       "      <td>193.0</td>\n",
       "      <td>3475.0</td>\n",
       "      <td>NaN</td>\n",
       "    </tr>\n",
       "    <tr>\n",
       "      <th>9</th>\n",
       "      <td>Adelie</td>\n",
       "      <td>Torgersen</td>\n",
       "      <td>42.0</td>\n",
       "      <td>20.2</td>\n",
       "      <td>190.0</td>\n",
       "      <td>4250.0</td>\n",
       "      <td>NaN</td>\n",
       "    </tr>\n",
       "  </tbody>\n",
       "</table>\n",
       "</div>"
      ],
      "text/plain": [
       "  species     island  bill_length_mm  bill_depth_mm  flipper_length_mm  \\\n",
       "0  Adelie  Torgersen            39.1           18.7              181.0   \n",
       "1  Adelie  Torgersen            39.5           17.4              186.0   \n",
       "2  Adelie  Torgersen            40.3           18.0              195.0   \n",
       "3  Adelie  Torgersen             NaN            NaN                NaN   \n",
       "4  Adelie  Torgersen            36.7           19.3              193.0   \n",
       "5  Adelie  Torgersen            39.3           20.6              190.0   \n",
       "6  Adelie  Torgersen            38.9           17.8              181.0   \n",
       "7  Adelie  Torgersen            39.2           19.6              195.0   \n",
       "8  Adelie  Torgersen            34.1           18.1              193.0   \n",
       "9  Adelie  Torgersen            42.0           20.2              190.0   \n",
       "\n",
       "   body_mass_g     sex  \n",
       "0       3750.0    male  \n",
       "1       3800.0  female  \n",
       "2       3250.0  female  \n",
       "3          NaN     NaN  \n",
       "4       3450.0  female  \n",
       "5       3650.0    male  \n",
       "6       3625.0  female  \n",
       "7       4675.0    male  \n",
       "8       3475.0     NaN  \n",
       "9       4250.0     NaN  "
      ]
     },
     "execution_count": 3,
     "metadata": {},
     "output_type": "execute_result"
    }
   ],
   "source": [
    "# Review the first 10 rows.\n",
    "\n",
    "penguins.head(10)"
   ]
  },
  {
   "cell_type": "markdown",
   "metadata": {
    "id": "tooWlpMBHqoi"
   },
   "source": [
    "<details>\n",
    "  <summary><h4><strong>Hint 1</strong></h4></summary>\n",
    "\n",
    "Use the `head()` method.\n",
    "\n",
    "</details>"
   ]
  },
  {
   "cell_type": "markdown",
   "metadata": {
    "id": "Fg0PhE51Kiz6"
   },
   "source": [
    "<details>\n",
    "  <summary><h4><strong>Hint 2</strong></h4></summary>\n",
    "\n",
    "By default, the method only returns five rows. To change this, specify how many rows `(n = )` you want.\n",
    "\n",
    "</details>"
   ]
  },
  {
   "cell_type": "markdown",
   "metadata": {
    "id": "ec269f85-6622-4f82-bdcd-1874224a4052",
    "tags": []
   },
   "source": [
    "## **Step 2: Data exploration** \n",
    "\n",
    "After loading the dataset, the next step is to prepare the data to be suitable for clustering. This includes: \n",
    "\n",
    "*   Exploring data\n",
    "*   Checking for missing values\n",
    "*   Encoding data \n",
    "*   Dropping a column\n",
    "*   Scaling the features using `StandardScaler`"
   ]
  },
  {
   "cell_type": "markdown",
   "metadata": {
    "id": "d7ccd368"
   },
   "source": [
    "### Explore data\n",
    "\n",
    "To cluster penguins of multiple different species, determine how many different types of penguin species are in the dataset."
   ]
  },
  {
   "cell_type": "code",
   "execution_count": 16,
   "metadata": {
    "id": "8098d8a3"
   },
   "outputs": [
    {
     "data": {
      "text/plain": [
       "Adelie       152\n",
       "Gentoo       124\n",
       "Chinstrap     68\n",
       "Name: species, dtype: int64"
      ]
     },
     "execution_count": 16,
     "metadata": {},
     "output_type": "execute_result"
    }
   ],
   "source": [
    "# Find out how many penguin types there are.\n",
    "\n",
    "penguins['species'].value_counts()"
   ]
  },
  {
   "cell_type": "markdown",
   "metadata": {
    "id": "9221f9a4"
   },
   "source": [
    "<details>\n",
    "  <summary><h4><strong>Hint 1</strong></h4></summary>\n",
    "\n",
    "Use the `unique()` method.\n",
    "\n",
    "</details>"
   ]
  },
  {
   "cell_type": "markdown",
   "metadata": {
    "id": "62d8c90f"
   },
   "source": [
    "<details>\n",
    "  <summary><h4><strong>Hint 2</strong></h4></summary>\n",
    "\n",
    "Use the `unique()` method on the column `'species'`.\n",
    "\n",
    "</details>"
   ]
  },
  {
   "cell_type": "code",
   "execution_count": 17,
   "metadata": {
    "id": "1730341a"
   },
   "outputs": [
    {
     "data": {
      "text/plain": [
       "Adelie       152\n",
       "Gentoo       124\n",
       "Chinstrap     68\n",
       "Name: species, dtype: int64"
      ]
     },
     "execution_count": 17,
     "metadata": {},
     "output_type": "execute_result"
    }
   ],
   "source": [
    "# Find the count of each species type.\n",
    "\n",
    "penguins['species'].value_counts()"
   ]
  },
  {
   "cell_type": "markdown",
   "metadata": {
    "id": "74fe9495"
   },
   "source": [
    "<details>\n",
    "  <summary><h4><strong>Hint 1</strong></h4></summary>\n",
    "\n",
    "Use the `value_counts()` method.\n",
    "\n",
    "</details>"
   ]
  },
  {
   "cell_type": "markdown",
   "metadata": {
    "id": "a65b62e6"
   },
   "source": [
    "<details>\n",
    "  <summary><h4><strong>Hint 2</strong></h4></summary>\n",
    "\n",
    "Use the `value_counts()` method on the column `'species'`.\n",
    "\n",
    "</details>"
   ]
  },
  {
   "cell_type": "markdown",
   "metadata": {
    "id": "a2ae00e8"
   },
   "source": [
    "**Question:** How many types of species are present in the dataset?"
   ]
  },
  {
   "cell_type": "markdown",
   "metadata": {
    "id": "yP0PPSd9dwIy"
   },
   "source": [
    "3"
   ]
  },
  {
   "cell_type": "markdown",
   "metadata": {
    "id": "1f175bc9"
   },
   "source": [
    "**Question:** Why is it helpful to determine the perfect number of clusters using K-means when you already know how many penguin species the dataset contains?"
   ]
  },
  {
   "cell_type": "markdown",
   "metadata": {
    "id": "yP0PPSd9dwIy"
   },
   "source": [
    "This gives an intuitive value for K, which would otherwise not be known until exploeing through inertia and silhoutte score analysis. "
   ]
  },
  {
   "cell_type": "markdown",
   "metadata": {
    "id": "4222ca54"
   },
   "source": [
    "### Check for missing values"
   ]
  },
  {
   "cell_type": "markdown",
   "metadata": {
    "id": "TgANHJBVxpbI"
   },
   "source": [
    "An assumption of K-means is that there are no missing values. Check for missing values in the rows of the data. "
   ]
  },
  {
   "cell_type": "code",
   "execution_count": 18,
   "metadata": {
    "id": "3_SVlY1VpY4h"
   },
   "outputs": [
    {
     "data": {
      "text/plain": [
       "species               0\n",
       "island                0\n",
       "bill_length_mm        2\n",
       "bill_depth_mm         2\n",
       "flipper_length_mm     2\n",
       "body_mass_g           2\n",
       "sex                  11\n",
       "dtype: int64"
      ]
     },
     "execution_count": 18,
     "metadata": {},
     "output_type": "execute_result"
    }
   ],
   "source": [
    "# Check for missing values.\n",
    "\n",
    "penguins.isna().sum()"
   ]
  },
  {
   "cell_type": "markdown",
   "metadata": {
    "id": "ptn9xlIjJOAL"
   },
   "source": [
    "<details>\n",
    "  <summary><h4><strong>Hint 1</strong></h4></summary>\n",
    "\n",
    "Use the `isnull` and `sum` methods. \n",
    "\n",
    "</details>"
   ]
  },
  {
   "cell_type": "markdown",
   "metadata": {
    "id": "eb005a73-4621-45b9-8114-30472ce20327"
   },
   "source": [
    "Now, drop the rows with missing values and save the resulting pandas DataFrame in a variable named `penguins_subset`."
   ]
  },
  {
   "cell_type": "code",
   "execution_count": 22,
   "metadata": {
    "id": "1cee438e-8b1f-4855-855e-3723d1958b69"
   },
   "outputs": [
    {
     "data": {
      "text/html": [
       "<div>\n",
       "<style scoped>\n",
       "    .dataframe tbody tr th:only-of-type {\n",
       "        vertical-align: middle;\n",
       "    }\n",
       "\n",
       "    .dataframe tbody tr th {\n",
       "        vertical-align: top;\n",
       "    }\n",
       "\n",
       "    .dataframe thead th {\n",
       "        text-align: right;\n",
       "    }\n",
       "</style>\n",
       "<table border=\"1\" class=\"dataframe\">\n",
       "  <thead>\n",
       "    <tr style=\"text-align: right;\">\n",
       "      <th></th>\n",
       "      <th>index</th>\n",
       "      <th>species</th>\n",
       "      <th>island</th>\n",
       "      <th>bill_length_mm</th>\n",
       "      <th>bill_depth_mm</th>\n",
       "      <th>flipper_length_mm</th>\n",
       "      <th>body_mass_g</th>\n",
       "      <th>sex</th>\n",
       "    </tr>\n",
       "  </thead>\n",
       "  <tbody>\n",
       "    <tr>\n",
       "      <th>0</th>\n",
       "      <td>0</td>\n",
       "      <td>Adelie</td>\n",
       "      <td>Torgersen</td>\n",
       "      <td>39.1</td>\n",
       "      <td>18.7</td>\n",
       "      <td>181.0</td>\n",
       "      <td>3750.0</td>\n",
       "      <td>male</td>\n",
       "    </tr>\n",
       "    <tr>\n",
       "      <th>1</th>\n",
       "      <td>1</td>\n",
       "      <td>Adelie</td>\n",
       "      <td>Torgersen</td>\n",
       "      <td>39.5</td>\n",
       "      <td>17.4</td>\n",
       "      <td>186.0</td>\n",
       "      <td>3800.0</td>\n",
       "      <td>female</td>\n",
       "    </tr>\n",
       "    <tr>\n",
       "      <th>2</th>\n",
       "      <td>2</td>\n",
       "      <td>Adelie</td>\n",
       "      <td>Torgersen</td>\n",
       "      <td>40.3</td>\n",
       "      <td>18.0</td>\n",
       "      <td>195.0</td>\n",
       "      <td>3250.0</td>\n",
       "      <td>female</td>\n",
       "    </tr>\n",
       "    <tr>\n",
       "      <th>3</th>\n",
       "      <td>4</td>\n",
       "      <td>Adelie</td>\n",
       "      <td>Torgersen</td>\n",
       "      <td>36.7</td>\n",
       "      <td>19.3</td>\n",
       "      <td>193.0</td>\n",
       "      <td>3450.0</td>\n",
       "      <td>female</td>\n",
       "    </tr>\n",
       "    <tr>\n",
       "      <th>4</th>\n",
       "      <td>5</td>\n",
       "      <td>Adelie</td>\n",
       "      <td>Torgersen</td>\n",
       "      <td>39.3</td>\n",
       "      <td>20.6</td>\n",
       "      <td>190.0</td>\n",
       "      <td>3650.0</td>\n",
       "      <td>male</td>\n",
       "    </tr>\n",
       "    <tr>\n",
       "      <th>...</th>\n",
       "      <td>...</td>\n",
       "      <td>...</td>\n",
       "      <td>...</td>\n",
       "      <td>...</td>\n",
       "      <td>...</td>\n",
       "      <td>...</td>\n",
       "      <td>...</td>\n",
       "      <td>...</td>\n",
       "    </tr>\n",
       "    <tr>\n",
       "      <th>328</th>\n",
       "      <td>338</td>\n",
       "      <td>Gentoo</td>\n",
       "      <td>Biscoe</td>\n",
       "      <td>47.2</td>\n",
       "      <td>13.7</td>\n",
       "      <td>214.0</td>\n",
       "      <td>4925.0</td>\n",
       "      <td>female</td>\n",
       "    </tr>\n",
       "    <tr>\n",
       "      <th>329</th>\n",
       "      <td>340</td>\n",
       "      <td>Gentoo</td>\n",
       "      <td>Biscoe</td>\n",
       "      <td>46.8</td>\n",
       "      <td>14.3</td>\n",
       "      <td>215.0</td>\n",
       "      <td>4850.0</td>\n",
       "      <td>female</td>\n",
       "    </tr>\n",
       "    <tr>\n",
       "      <th>330</th>\n",
       "      <td>341</td>\n",
       "      <td>Gentoo</td>\n",
       "      <td>Biscoe</td>\n",
       "      <td>50.4</td>\n",
       "      <td>15.7</td>\n",
       "      <td>222.0</td>\n",
       "      <td>5750.0</td>\n",
       "      <td>male</td>\n",
       "    </tr>\n",
       "    <tr>\n",
       "      <th>331</th>\n",
       "      <td>342</td>\n",
       "      <td>Gentoo</td>\n",
       "      <td>Biscoe</td>\n",
       "      <td>45.2</td>\n",
       "      <td>14.8</td>\n",
       "      <td>212.0</td>\n",
       "      <td>5200.0</td>\n",
       "      <td>female</td>\n",
       "    </tr>\n",
       "    <tr>\n",
       "      <th>332</th>\n",
       "      <td>343</td>\n",
       "      <td>Gentoo</td>\n",
       "      <td>Biscoe</td>\n",
       "      <td>49.9</td>\n",
       "      <td>16.1</td>\n",
       "      <td>213.0</td>\n",
       "      <td>5400.0</td>\n",
       "      <td>male</td>\n",
       "    </tr>\n",
       "  </tbody>\n",
       "</table>\n",
       "<p>333 rows × 8 columns</p>\n",
       "</div>"
      ],
      "text/plain": [
       "     index species     island  bill_length_mm  bill_depth_mm  \\\n",
       "0        0  Adelie  Torgersen            39.1           18.7   \n",
       "1        1  Adelie  Torgersen            39.5           17.4   \n",
       "2        2  Adelie  Torgersen            40.3           18.0   \n",
       "3        4  Adelie  Torgersen            36.7           19.3   \n",
       "4        5  Adelie  Torgersen            39.3           20.6   \n",
       "..     ...     ...        ...             ...            ...   \n",
       "328    338  Gentoo     Biscoe            47.2           13.7   \n",
       "329    340  Gentoo     Biscoe            46.8           14.3   \n",
       "330    341  Gentoo     Biscoe            50.4           15.7   \n",
       "331    342  Gentoo     Biscoe            45.2           14.8   \n",
       "332    343  Gentoo     Biscoe            49.9           16.1   \n",
       "\n",
       "     flipper_length_mm  body_mass_g     sex  \n",
       "0                181.0       3750.0    male  \n",
       "1                186.0       3800.0  female  \n",
       "2                195.0       3250.0  female  \n",
       "3                193.0       3450.0  female  \n",
       "4                190.0       3650.0    male  \n",
       "..                 ...          ...     ...  \n",
       "328              214.0       4925.0  female  \n",
       "329              215.0       4850.0  female  \n",
       "330              222.0       5750.0    male  \n",
       "331              212.0       5200.0  female  \n",
       "332              213.0       5400.0    male  \n",
       "\n",
       "[333 rows x 8 columns]"
      ]
     },
     "execution_count": 22,
     "metadata": {},
     "output_type": "execute_result"
    }
   ],
   "source": [
    "# Drop rows with missing values.\n",
    "# Save DataFrame in variable `penguins_subset`.\n",
    "\n",
    "penguins_subset = penguins.dropna().reset_index()\n",
    "penguins_subset"
   ]
  },
  {
   "cell_type": "markdown",
   "metadata": {
    "id": "374b2b21"
   },
   "source": [
    "<details>\n",
    "  <summary><h4><strong>Hint 1</strong></h4></summary>\n",
    "\n",
    "Use `dropna`. Note that an axis parameter passed in to this function should be set to 0 if you want to drop rows containing missing values or 1 if you want to drop columns containing missing values. Optionally, `reset_index` may also be used to avoid a SettingWithCopy warning later in the notebook. \n",
    "</details>"
   ]
  },
  {
   "cell_type": "markdown",
   "metadata": {
    "id": "ymfmX-WvW31z"
   },
   "source": [
    "Next, check to make sure that `penguins_subset` does not contain any missing values."
   ]
  },
  {
   "cell_type": "code",
   "execution_count": 23,
   "metadata": {
    "id": "n36d4yztW4BA"
   },
   "outputs": [
    {
     "data": {
      "text/plain": [
       "index                0\n",
       "species              0\n",
       "island               0\n",
       "bill_length_mm       0\n",
       "bill_depth_mm        0\n",
       "flipper_length_mm    0\n",
       "body_mass_g          0\n",
       "sex                  0\n",
       "dtype: int64"
      ]
     },
     "execution_count": 23,
     "metadata": {},
     "output_type": "execute_result"
    }
   ],
   "source": [
    "# Check for missing values.\n",
    "\n",
    "penguins_subset.isna().sum()"
   ]
  },
  {
   "cell_type": "markdown",
   "metadata": {
    "id": "0021b18e-4c93-4628-8d0d-2c55a98cc691"
   },
   "source": [
    "Now, review the first 10 rows of the subset."
   ]
  },
  {
   "cell_type": "code",
   "execution_count": 24,
   "metadata": {
    "id": "a58b4d77-6023-428d-89aa-4d2ac52003dc"
   },
   "outputs": [
    {
     "data": {
      "text/html": [
       "<div>\n",
       "<style scoped>\n",
       "    .dataframe tbody tr th:only-of-type {\n",
       "        vertical-align: middle;\n",
       "    }\n",
       "\n",
       "    .dataframe tbody tr th {\n",
       "        vertical-align: top;\n",
       "    }\n",
       "\n",
       "    .dataframe thead th {\n",
       "        text-align: right;\n",
       "    }\n",
       "</style>\n",
       "<table border=\"1\" class=\"dataframe\">\n",
       "  <thead>\n",
       "    <tr style=\"text-align: right;\">\n",
       "      <th></th>\n",
       "      <th>index</th>\n",
       "      <th>species</th>\n",
       "      <th>island</th>\n",
       "      <th>bill_length_mm</th>\n",
       "      <th>bill_depth_mm</th>\n",
       "      <th>flipper_length_mm</th>\n",
       "      <th>body_mass_g</th>\n",
       "      <th>sex</th>\n",
       "    </tr>\n",
       "  </thead>\n",
       "  <tbody>\n",
       "    <tr>\n",
       "      <th>0</th>\n",
       "      <td>0</td>\n",
       "      <td>Adelie</td>\n",
       "      <td>Torgersen</td>\n",
       "      <td>39.1</td>\n",
       "      <td>18.7</td>\n",
       "      <td>181.0</td>\n",
       "      <td>3750.0</td>\n",
       "      <td>male</td>\n",
       "    </tr>\n",
       "    <tr>\n",
       "      <th>1</th>\n",
       "      <td>1</td>\n",
       "      <td>Adelie</td>\n",
       "      <td>Torgersen</td>\n",
       "      <td>39.5</td>\n",
       "      <td>17.4</td>\n",
       "      <td>186.0</td>\n",
       "      <td>3800.0</td>\n",
       "      <td>female</td>\n",
       "    </tr>\n",
       "    <tr>\n",
       "      <th>2</th>\n",
       "      <td>2</td>\n",
       "      <td>Adelie</td>\n",
       "      <td>Torgersen</td>\n",
       "      <td>40.3</td>\n",
       "      <td>18.0</td>\n",
       "      <td>195.0</td>\n",
       "      <td>3250.0</td>\n",
       "      <td>female</td>\n",
       "    </tr>\n",
       "    <tr>\n",
       "      <th>3</th>\n",
       "      <td>4</td>\n",
       "      <td>Adelie</td>\n",
       "      <td>Torgersen</td>\n",
       "      <td>36.7</td>\n",
       "      <td>19.3</td>\n",
       "      <td>193.0</td>\n",
       "      <td>3450.0</td>\n",
       "      <td>female</td>\n",
       "    </tr>\n",
       "    <tr>\n",
       "      <th>4</th>\n",
       "      <td>5</td>\n",
       "      <td>Adelie</td>\n",
       "      <td>Torgersen</td>\n",
       "      <td>39.3</td>\n",
       "      <td>20.6</td>\n",
       "      <td>190.0</td>\n",
       "      <td>3650.0</td>\n",
       "      <td>male</td>\n",
       "    </tr>\n",
       "    <tr>\n",
       "      <th>5</th>\n",
       "      <td>6</td>\n",
       "      <td>Adelie</td>\n",
       "      <td>Torgersen</td>\n",
       "      <td>38.9</td>\n",
       "      <td>17.8</td>\n",
       "      <td>181.0</td>\n",
       "      <td>3625.0</td>\n",
       "      <td>female</td>\n",
       "    </tr>\n",
       "    <tr>\n",
       "      <th>6</th>\n",
       "      <td>7</td>\n",
       "      <td>Adelie</td>\n",
       "      <td>Torgersen</td>\n",
       "      <td>39.2</td>\n",
       "      <td>19.6</td>\n",
       "      <td>195.0</td>\n",
       "      <td>4675.0</td>\n",
       "      <td>male</td>\n",
       "    </tr>\n",
       "    <tr>\n",
       "      <th>7</th>\n",
       "      <td>12</td>\n",
       "      <td>Adelie</td>\n",
       "      <td>Torgersen</td>\n",
       "      <td>41.1</td>\n",
       "      <td>17.6</td>\n",
       "      <td>182.0</td>\n",
       "      <td>3200.0</td>\n",
       "      <td>female</td>\n",
       "    </tr>\n",
       "    <tr>\n",
       "      <th>8</th>\n",
       "      <td>13</td>\n",
       "      <td>Adelie</td>\n",
       "      <td>Torgersen</td>\n",
       "      <td>38.6</td>\n",
       "      <td>21.2</td>\n",
       "      <td>191.0</td>\n",
       "      <td>3800.0</td>\n",
       "      <td>male</td>\n",
       "    </tr>\n",
       "    <tr>\n",
       "      <th>9</th>\n",
       "      <td>14</td>\n",
       "      <td>Adelie</td>\n",
       "      <td>Torgersen</td>\n",
       "      <td>34.6</td>\n",
       "      <td>21.1</td>\n",
       "      <td>198.0</td>\n",
       "      <td>4400.0</td>\n",
       "      <td>male</td>\n",
       "    </tr>\n",
       "  </tbody>\n",
       "</table>\n",
       "</div>"
      ],
      "text/plain": [
       "   index species     island  bill_length_mm  bill_depth_mm  flipper_length_mm  \\\n",
       "0      0  Adelie  Torgersen            39.1           18.7              181.0   \n",
       "1      1  Adelie  Torgersen            39.5           17.4              186.0   \n",
       "2      2  Adelie  Torgersen            40.3           18.0              195.0   \n",
       "3      4  Adelie  Torgersen            36.7           19.3              193.0   \n",
       "4      5  Adelie  Torgersen            39.3           20.6              190.0   \n",
       "5      6  Adelie  Torgersen            38.9           17.8              181.0   \n",
       "6      7  Adelie  Torgersen            39.2           19.6              195.0   \n",
       "7     12  Adelie  Torgersen            41.1           17.6              182.0   \n",
       "8     13  Adelie  Torgersen            38.6           21.2              191.0   \n",
       "9     14  Adelie  Torgersen            34.6           21.1              198.0   \n",
       "\n",
       "   body_mass_g     sex  \n",
       "0       3750.0    male  \n",
       "1       3800.0  female  \n",
       "2       3250.0  female  \n",
       "3       3450.0  female  \n",
       "4       3650.0    male  \n",
       "5       3625.0  female  \n",
       "6       4675.0    male  \n",
       "7       3200.0  female  \n",
       "8       3800.0    male  \n",
       "9       4400.0    male  "
      ]
     },
     "execution_count": 24,
     "metadata": {},
     "output_type": "execute_result"
    }
   ],
   "source": [
    "# View first 10 rows.\n",
    "\n",
    "penguins_subset.head(10)"
   ]
  },
  {
   "cell_type": "markdown",
   "metadata": {
    "id": "d491a508"
   },
   "source": [
    "### Encode data\n",
    "\n",
    "Some versions of the penguins dataset have values encoded in the sex column as 'Male' and 'Female' instead of 'MALE' and 'FEMALE'. The code below will make sure all values are ALL CAPS. \n"
   ]
  },
  {
   "cell_type": "code",
   "execution_count": 25,
   "metadata": {
    "id": "ofs1fqq9HQ-2"
   },
   "outputs": [],
   "source": [
    "penguins_subset['sex'] = penguins_subset['sex'].str.upper()"
   ]
  },
  {
   "cell_type": "markdown",
   "metadata": {
    "id": "EO5fqIwUHOmi"
   },
   "source": [
    "K-means needs numeric columns for clustering. Convert the categorical column `'sex'` into numeric. There is no need to convert the `'species'` column because it isn't being used as a feature in the clustering algorithm. "
   ]
  },
  {
   "cell_type": "code",
   "execution_count": 26,
   "metadata": {
    "id": "U833roOu1Qf9"
   },
   "outputs": [],
   "source": [
    "# Convert `sex` column from categorical to numeric.\n",
    "\n",
    "penguins_subset = pd.get_dummies(penguins_subset, drop_first = True, columns=['sex'])"
   ]
  },
  {
   "cell_type": "markdown",
   "metadata": {
    "id": "d10c6d43"
   },
   "source": [
    "<details>\n",
    "  <summary><h4><strong>Hint 1</strong></h4></summary>\n",
    "\n",
    "Use the `get_dummies` function. \n",
    "\n",
    "</details>"
   ]
  },
  {
   "cell_type": "markdown",
   "metadata": {
    "id": "4ef2e46a"
   },
   "source": [
    "<details>\n",
    "  <summary><h4><strong>Hint 2</strong></h4></summary>\n",
    "\n",
    "The `drop_first` parameter should be set to `True`. This removes redundant data. The `columns` parameter can **optionally** be set to `['sex']` to specify that only the `'sex'` column gets this operation performed on it. \n",
    "\n",
    "</details>"
   ]
  },
  {
   "cell_type": "markdown",
   "metadata": {
    "id": "725cc2b0"
   },
   "source": [
    "### Drop a column\n",
    "\n",
    "Drop the categorical column `island` from the dataset. While it has value, this notebook is trying to confirm if penguins of the same species exhibit different physical characteristics based on sex. This doesn't include location.\n",
    "\n",
    "Note that the `'species'` column is not numeric. Don't drop the `'species'` column for now. It could potentially be used to help understand the clusters later. "
   ]
  },
  {
   "cell_type": "code",
   "execution_count": 28,
   "metadata": {
    "id": "841986cc"
   },
   "outputs": [],
   "source": [
    "# Drop the island column.\n",
    "\n",
    "penguins_subset = penguins_subset.drop(columns='island')"
   ]
  },
  {
   "cell_type": "markdown",
   "metadata": {
    "id": "Gqs356GLi-OX"
   },
   "source": [
    "### Scale the features\n",
    "\n",
    "Because K-means uses distance between observations as its measure of similarity, it's important to scale the data before modeling. Use a third-party tool, such as scikit-learn's `StandardScaler` function. `StandardScaler` scales each point xᵢ by subtracting the mean observed value for that feature and dividing by the standard deviation:\n",
    "\n",
    "x-scaled = (xᵢ – mean(X)) / σ\n",
    "\n",
    "This ensures that all variables have a mean of 0 and variance/standard deviation of 1. \n",
    "\n",
    "**Note:** Because the species column isn't a feature, it doesn't need to be scaled. \n",
    "\n",
    "First, copy all the features except the `'species'` column to a DataFrame `X`. "
   ]
  },
  {
   "cell_type": "code",
   "execution_count": 30,
   "metadata": {
    "id": "37a93839"
   },
   "outputs": [],
   "source": [
    "# Exclude `species` variable from X\n",
    "X = penguins_subset.drop(['species'], axis=1)\n"
   ]
  },
  {
   "cell_type": "markdown",
   "metadata": {
    "id": "bc057c97"
   },
   "source": [
    "<details>\n",
    "  <summary><h4><strong>Hint 1</strong></h4></summary>\n",
    "\n",
    "Use`drop()`.\n",
    "</details>"
   ]
  },
  {
   "cell_type": "markdown",
   "metadata": {
    "id": "059194c4"
   },
   "source": [
    "<details>\n",
    "  <summary><h4><strong>Hint 2</strong></h4></summary>\n",
    "\n",
    "Select all columns except `'species'.`The `axis` parameter passed in to this method should be set to `1` if you want to drop columns.\n",
    "</details>"
   ]
  },
  {
   "cell_type": "markdown",
   "metadata": {
    "id": "da3acdc9"
   },
   "source": [
    "Scale the features in `X` using `StandardScaler`, and assign the scaled data to a new variable `X_scaled`. "
   ]
  },
  {
   "cell_type": "code",
   "execution_count": 31,
   "metadata": {
    "id": "gJRWMdtgkT4g"
   },
   "outputs": [],
   "source": [
    "#Scale the features.\n",
    "#Assign the scaled data to variable `X_scaled`.\n",
    "\n",
    "X_scaled = StandardScaler().fit_transform(X)\n"
   ]
  },
  {
   "cell_type": "markdown",
   "metadata": {
    "id": "08a688d3"
   },
   "source": [
    "<details>\n",
    "  <summary><h4><strong>Hint 1</strong></h4></summary>\n",
    "\n",
    "Instantiate StandardScaler to transform the data in a single step.\n",
    "</details>"
   ]
  },
  {
   "cell_type": "markdown",
   "metadata": {
    "id": "05445583"
   },
   "source": [
    "<details>\n",
    "  <summary><h4><strong>Hint 2</strong></h4></summary>\n",
    "\n",
    "Use the `.fit_transform()` method and pass in the data as an argument.\n",
    "</details>"
   ]
  },
  {
   "cell_type": "markdown",
   "metadata": {
    "id": "beKyGofii-tO"
   },
   "source": [
    "## **Step 3: Data modeling** "
   ]
  },
  {
   "cell_type": "markdown",
   "metadata": {
    "id": "15120a7e"
   },
   "source": [
    "Now, fit K-means and evaluate inertia for different values of k. Because you may not know how many clusters exist in the data, start by fitting K-means and examining the inertia values for different values of k. To do this, write a function called `kmeans_inertia` that takes in `num_clusters` and `x_vals` (`X_scaled`) and returns a list of each k-value's inertia.\n",
    "\n",
    "When using K-means inside the function, set the `random_state` to `42`. This way, others can reproduce your results."
   ]
  },
  {
   "cell_type": "code",
   "execution_count": 35,
   "metadata": {
    "id": "hCq5xkM0hw7n"
   },
   "outputs": [],
   "source": [
    "# Fit K-means and evaluate inertia for different values of k.\n",
    "\n",
    "def kmeans_inertia(num_clusters, x_vals):\n",
    "    inertia =[]\n",
    "    for num in num_clusters:\n",
    "        kms = KMeans(n_clusters=num, random_state=42)\n",
    "        kms.fit(x_vals)\n",
    "        inertia.append(kms.inertia_)\n",
    "    return inertia\n"
   ]
  },
  {
   "cell_type": "markdown",
   "metadata": {
    "id": "21c96ecc"
   },
   "source": [
    "Use the `kmeans_inertia` function to return a list of inertia for k=2 to 10."
   ]
  },
  {
   "cell_type": "code",
   "execution_count": 38,
   "metadata": {
    "id": "p7dWwBQih0dd"
   },
   "outputs": [],
   "source": [
    "# Return a list of inertia for k=2 to 10.\n",
    "num_clusters = [i for i in range(2, 11)]\n",
    "inertia = kmeans_inertia(num_clusters, X_scaled)"
   ]
  },
  {
   "cell_type": "markdown",
   "metadata": {
    "id": "7e574f05"
   },
   "source": [
    "<details>\n",
    "  <summary><h4><strong>Hint 1</strong></h4></summary>\n",
    "\n",
    "Review the material about the `kmeans_inertia` function. \n",
    "</details>"
   ]
  },
  {
   "cell_type": "markdown",
   "metadata": {
    "id": "fa331d9a"
   },
   "source": [
    "Next, create a line plot that shows the relationship between `num_clusters` and `inertia`.\n",
    "Use either seaborn or matplotlib to visualize this relationship. "
   ]
  },
  {
   "cell_type": "code",
   "execution_count": 39,
   "metadata": {
    "id": "46yOZCg4h9a4"
   },
   "outputs": [
    {
     "data": {
      "text/plain": [
       "<matplotlib.axes._subplots.AxesSubplot at 0x793e5bd7ba50>"
      ]
     },
     "execution_count": 39,
     "metadata": {},
     "output_type": "execute_result"
    },
    {
     "data": {
      "image/png": "[encoded data removed]",
      "text/plain": [
       "<Figure size 432x288 with 1 Axes>"
      ]
     },
     "metadata": {
      "needs_background": "light"
     },
     "output_type": "display_data"
    }
   ],
   "source": [
    "# Create a line plot.\n",
    "\n",
    "sns.lineplot(x=num_clusters, y=inertia)"
   ]
  },
  {
   "cell_type": "markdown",
   "metadata": {
    "id": "011ff9cf"
   },
   "source": [
    "<details>\n",
    "  <summary><h4><strong>Hint 1</strong></h4></summary>\n",
    "\n",
    "Use `sns.lineplot`.\n",
    "</details>"
   ]
  },
  {
   "cell_type": "markdown",
   "metadata": {
    "id": "19bfddca"
   },
   "source": [
    "<details>\n",
    "  <summary><h4><strong>Hint 2</strong></h4></summary>\n",
    "\n",
    "Include `x=num_clusters` and `y=inertia`.\n",
    "</details>"
   ]
  },
  {
   "cell_type": "markdown",
   "metadata": {
    "id": "g-nPzhMPi_oQ"
   },
   "source": [
    "**Question:** Where is the elbow in the plot?"
   ]
  },
  {
   "cell_type": "markdown",
   "metadata": {
    "id": "RPLSlsyKdtDL"
   },
   "source": [
    "At k=6"
   ]
  },
  {
   "cell_type": "markdown",
   "metadata": {
    "id": "fc33c6a3-8610-4b70-b0e9-9b99c345c0ac"
   },
   "source": [
    "## **Step 4: Results and evaluation** "
   ]
  },
  {
   "cell_type": "markdown",
   "metadata": {
    "id": "L0Jmyi8Hi__T"
   },
   "source": [
    "Now, evaluate the silhouette score using the `silhouette_score()` function. Silhouette scores are used to study the distance between clusters. "
   ]
  },
  {
   "cell_type": "markdown",
   "metadata": {
    "id": "64e51814"
   },
   "source": [
    "Then, compare the silhouette score of each value of k, from 2 through 10. To do this, write a function called `kmeans_sil` that takes in `num_clusters` and `x_vals` (`X_scaled`) and returns a list of each k-value's silhouette score."
   ]
  },
  {
   "cell_type": "code",
   "execution_count": 40,
   "metadata": {
    "id": "nV9ul68GpUhK"
   },
   "outputs": [],
   "source": [
    "# Evaluate silhouette score.\n",
    "# Write a function to return a list of each k-value's score.\n",
    "\n",
    "def kmeans_silhoutte_score(num_clusters, x_vals):\n",
    "    silhoutte_scores =[]\n",
    "    for num in num_clusters:\n",
    "        kms = KMeans(n_clusters=num, random_state=42)\n",
    "        kms.fit(x_vals)\n",
    "        silhoutte_scores.append(silhouette_score(x_vals, kms.labels_))\n",
    "    return silhoutte_scores"
   ]
  },
  {
   "cell_type": "markdown",
   "metadata": {
    "id": "ed27ba6f"
   },
   "source": [
    "<details>\n",
    "  <summary><h4><strong>Hint 1</strong></h4></summary>\n",
    "\n",
    "Review the `kmeans_sil` function video.\n",
    "</details>"
   ]
  },
  {
   "cell_type": "markdown",
   "metadata": {
    "id": "e3d3c989"
   },
   "source": [
    "Next, create a line plot that shows the relationship between `num_clusters` and `sil_score`.\n",
    "Use either seaborn or matplotlib to visualize this relationship. "
   ]
  },
  {
   "cell_type": "code",
   "execution_count": 41,
   "metadata": {
    "id": "IyhBJ8qXpbxz"
   },
   "outputs": [
    {
     "data": {
      "text/plain": [
       "<matplotlib.axes._subplots.AxesSubplot at 0x793e59c881d0>"
      ]
     },
     "execution_count": 41,
     "metadata": {},
     "output_type": "execute_result"
    },
    {
     "data": {
      "image/png": "[encoded data removed]",
      "text/plain": [
       "<Figure size 432x288 with 1 Axes>"
      ]
     },
     "metadata": {
      "needs_background": "light"
     },
     "output_type": "display_data"
    }
   ],
   "source": [
    "# Create a line plot.\n",
    "\n",
    "sil_score = kmeans_silhoutte_score(num_clusters, X_scaled)\n",
    "sns.lineplot(x=num_clusters, y=sil_score)"
   ]
  },
  {
   "cell_type": "markdown",
   "metadata": {
    "id": "045d2a44"
   },
   "source": [
    "<details>\n",
    "  <summary><h4><strong>Hint 1</strong></h4></summary>\n",
    "\n",
    "Use `sns.lineplot`.\n",
    "</details>"
   ]
  },
  {
   "cell_type": "markdown",
   "metadata": {
    "id": "9e48cb4c"
   },
   "source": [
    "<details>\n",
    "  <summary><h4><strong>Hint 2</strong></h4></summary>\n",
    "\n",
    "Include `x=num_clusters` and `y=sil_score`.\n",
    "</details>"
   ]
  },
  {
   "cell_type": "markdown",
   "metadata": {
    "id": "5262b500"
   },
   "source": [
    "**Question:** What does the graph show?"
   ]
  },
  {
   "cell_type": "markdown",
   "metadata": {
    "id": "k6XQNuWkdp9t"
   },
   "source": [
    "Optimal silhoutte score at k=6"
   ]
  },
  {
   "cell_type": "markdown",
   "metadata": {
    "id": "otSauwzpMXnP"
   },
   "source": [
    "### Optimal k-value"
   ]
  },
  {
   "cell_type": "markdown",
   "metadata": {
    "id": "7vQnmULGE69B"
   },
   "source": [
    "To decide on an optimal k-value, fit a six-cluster model to the dataset. "
   ]
  },
  {
   "cell_type": "code",
   "execution_count": 45,
   "metadata": {
    "id": "tZhr41e6MXxo"
   },
   "outputs": [
    {
     "data": {
      "text/plain": [
       "KMeans(algorithm='auto', copy_x=True, init='k-means++', max_iter=300,\n",
       "       n_clusters=6, n_init=10, n_jobs=None, precompute_distances='auto',\n",
       "       random_state=42, tol=0.0001, verbose=0)"
      ]
     },
     "execution_count": 45,
     "metadata": {},
     "output_type": "execute_result"
    }
   ],
   "source": [
    "# Fit a 6-cluster model.\n",
    "\n",
    "kmeans6 = KMeans(n_clusters=6, random_state=42)\n",
    "kmeans6.fit(X_scaled)"
   ]
  },
  {
   "cell_type": "markdown",
   "metadata": {
    "id": "3f705fde"
   },
   "source": [
    "<details>\n",
    "  <summary><h4><strong>Hint 1</strong></h4></summary>\n",
    "\n",
    "Make an instance of the model with `num_clusters = 6` and use the `fit` function on `X_scaled`. \n",
    "</details>\n",
    "\n",
    "\n"
   ]
  },
  {
   "cell_type": "markdown",
   "metadata": {
    "id": "49f834ec"
   },
   "source": [
    "Print out the unique labels of the fit model."
   ]
  },
  {
   "cell_type": "code",
   "execution_count": 48,
   "metadata": {
    "id": "mLB6AyhWMX54"
   },
   "outputs": [
    {
     "data": {
      "text/plain": [
       "array([0, 1, 2, 3, 4, 5], dtype=int32)"
      ]
     },
     "execution_count": 48,
     "metadata": {},
     "output_type": "execute_result"
    }
   ],
   "source": [
    "# Print unique labels.\n",
    "\n",
    "np.unique(kmeans6.labels_)"
   ]
  },
  {
   "cell_type": "markdown",
   "metadata": {
    "id": "080d87e3"
   },
   "source": [
    "Now, create a new column `cluster` that indicates cluster assignment in the DataFrame `penguins_subset`. It's important to understand the meaning of each cluster's labels, then decide whether the clustering makes sense. \n",
    "\n",
    "**Note:** This task is done using `penguins_subset` because it is often easier to interpret unscaled data."
   ]
  },
  {
   "cell_type": "code",
   "execution_count": 50,
   "metadata": {
    "id": "oxS6EJvZM1Ab"
   },
   "outputs": [],
   "source": [
    "# Create a new column `cluster`.\n",
    "\n",
    "penguins_subset['cluster'] = kmeans6.labels_"
   ]
  },
  {
   "cell_type": "markdown",
   "metadata": {
    "id": "0c3fe6a3"
   },
   "source": [
    "Use `groupby` to verify if any `'cluster'` can be differentiated by `'species'`."
   ]
  },
  {
   "cell_type": "code",
   "execution_count": 57,
   "metadata": {
    "id": "051b144d"
   },
   "outputs": [
    {
     "data": {
      "text/plain": [
       "cluster  species  \n",
       "0        Adelie       73\n",
       "1        Gentoo       61\n",
       "2        Adelie       73\n",
       "3        Chinstrap    34\n",
       "4        Gentoo       58\n",
       "5        Chinstrap    34\n",
       "dtype: int64"
      ]
     },
     "execution_count": 57,
     "metadata": {},
     "output_type": "execute_result"
    }
   ],
   "source": [
    "# Verify if any `cluster` can be differentiated by `species`.\n",
    "\n",
    "penguins_subset.groupby(by=['cluster', 'species']).size()"
   ]
  },
  {
   "cell_type": "markdown",
   "metadata": {
    "id": "6cb2c53e"
   },
   "source": [
    "<details>\n",
    "  <summary><h4><strong>Hint 1</strong></h4></summary>\n",
    "\n",
    "Use `groupby(by=['cluster', 'species'])`. \n",
    "\n",
    "</details>\n"
   ]
  },
  {
   "cell_type": "markdown",
   "metadata": {
    "id": "f42d5be4"
   },
   "source": [
    "<details>\n",
    "  <summary><h4><strong>Hint 2</strong></h4></summary>\n",
    "\n",
    "\n",
    "Use an aggregation function such as `size`.\n",
    "\n",
    "</details>"
   ]
  },
  {
   "cell_type": "markdown",
   "metadata": {
    "id": "QACZiuWYM59u"
   },
   "source": [
    "Next, interpret the groupby outputs. Although the results of the groupby show that each `'cluster'` can be differentiated by `'species'`, it is useful to visualize these results. The graph shows that each `'cluster'` can be differentiated by `'species'`. \n",
    "\n",
    "**Note:** The code for the graph below is outside the scope of this lab. "
   ]
  },
  {
   "cell_type": "code",
   "execution_count": 58,
   "metadata": {
    "colab": {
     "base_uri": "https://localhost:8080/",
     "height": 408
    },
    "executionInfo": {
     "elapsed": 500,
     "status": "ok",
     "timestamp": 1659750070101,
     "user": {
      "displayName": "Gracen Hanley",
      "userId": "14517815644308397440"
     },
     "user_tz": 420
    },
    "id": "ScRX4uWfNqo6",
    "outputId": "ea55e742-e819-49b4-da79-ddb9adf0a398"
   },
   "outputs": [
    {
     "data": {
      "image/png": "[encoded data removed]",
      "text/plain": [
       "<Figure size 432x360 with 1 Axes>"
      ]
     },
     "metadata": {
      "needs_background": "light"
     },
     "output_type": "display_data"
    }
   ],
   "source": [
    "penguins_subset.groupby(by=['cluster', 'species']).size().plot.bar(title='Clusters differentiated by species',\n",
    "                                                                   figsize=(6, 5),\n",
    "                                                                   ylabel='Size',\n",
    "                                                                   xlabel='(Cluster, Species)');\n"
   ]
  },
  {
   "cell_type": "markdown",
   "metadata": {
    "id": "f1b82368"
   },
   "source": [
    "Use `groupby` to verify if each `'cluster'` can be differentiated by `'species'` AND `'sex_MALE'`."
   ]
  },
  {
   "cell_type": "code",
   "execution_count": 59,
   "metadata": {
    "id": "2cf5adc2"
   },
   "outputs": [
    {
     "data": {
      "text/plain": [
       "cluster  species    sex_MALE\n",
       "0        Adelie     1           73\n",
       "2        Adelie     0           73\n",
       "1        Gentoo     1           61\n",
       "4        Gentoo     0           58\n",
       "3        Chinstrap  0           34\n",
       "5        Chinstrap  1           34\n",
       "dtype: int64"
      ]
     },
     "execution_count": 59,
     "metadata": {},
     "output_type": "execute_result"
    }
   ],
   "source": [
    "# Verify if each `cluster` can be differentiated by `species' AND `sex_MALE`.\n",
    "\n",
    "penguins_subset.groupby(by=['cluster','species', 'sex_MALE']).size().sort_values(ascending = False)"
   ]
  },
  {
   "cell_type": "markdown",
   "metadata": {
    "id": "f0ad7c32"
   },
   "source": [
    "<details>\n",
    "  <summary><h4><strong>Hint 1</strong></h4></summary>\n",
    "\n",
    "Use `groupby(by=['cluster','species', 'sex_MALE'])`. \n",
    "</details>\n"
   ]
  },
  {
   "cell_type": "markdown",
   "metadata": {
    "id": "d667d4ce"
   },
   "source": [
    "<details>\n",
    "  <summary><h4><strong>Hint 2</strong></h4></summary>\n",
    "\n",
    "Use an aggregation function such as `size`.\n",
    "</details>"
   ]
  },
  {
   "cell_type": "markdown",
   "metadata": {
    "id": "ae471434"
   },
   "source": [
    "**Question:** Are the clusters differentiated by `'species'` and `'sex_MALE'`?"
   ]
  },
  {
   "cell_type": "markdown",
   "metadata": {
    "id": "CRMvvPaKdlRP"
   },
   "source": [
    "Even though clusters 1 and 3 weren't all one species or sex, the `groupby` indicates that the algorithm produced clusters mostly differentiated by species and sex. "
   ]
  },
  {
   "cell_type": "markdown",
   "metadata": {
    "id": "c9dSiWNNcdZH"
   },
   "source": [
    "Finally, interpret the groupby outputs and visualize these results. The graph shows that each `'cluster'` can be differentiated by `'species'` and `'sex_MALE'`. Furthermore, each cluster is mostly comprised of one sex and one species. \n",
    "\n",
    "**Note:** The code for the graph below is outside the scope of this lab. "
   ]
  },
  {
   "cell_type": "code",
   "execution_count": 60,
   "metadata": {
    "colab": {
     "base_uri": "https://localhost:8080/",
     "height": 383
    },
    "executionInfo": {
     "elapsed": 649,
     "status": "ok",
     "timestamp": 1659750070746,
     "user": {
      "displayName": "Gracen Hanley",
      "userId": "14517815644308397440"
     },
     "user_tz": 420
    },
    "id": "Xw-g03su8_4Z",
    "outputId": "10c8fe4e-8cfd-4963-f535-7d6029e4d4af"
   },
   "outputs": [
    {
     "data": {
      "text/plain": [
       "<matplotlib.legend.Legend at 0x793e59884890>"
      ]
     },
     "execution_count": 60,
     "metadata": {},
     "output_type": "execute_result"
    },
    {
     "data": {
      "image/png": "[encoded data removed]",
      "text/plain": [
       "<Figure size 432x360 with 1 Axes>"
      ]
     },
     "metadata": {
      "needs_background": "light"
     },
     "output_type": "display_data"
    }
   ],
   "source": [
    "penguins_subset.groupby(by=['cluster','species','sex_MALE']).size().unstack(level = 'species', fill_value=0).plot.bar(title='Clusters differentiated by species and sex',\n",
    "                                                                                                                      figsize=(6, 5),\n",
    "                                                                                                                      ylabel='Size',\n",
    "                                                                                                                      xlabel='(Cluster, Sex)')\n",
    "plt.legend(bbox_to_anchor=(1.3, 1.0))"
   ]
  },
  {
   "cell_type": "markdown",
   "metadata": {
    "id": "4DRcgiMgM1HP"
   },
   "source": [
    "## **Considerations**\n",
    "\n",
    "\n",
    "**What are some key takeaways that you learned during this lab? Consider the process you used, key tools, and the results of your investigation.**\n",
    "\n",
    "Many machine learning workflows are about cleaning, encoding, and scaling data.\n",
    "Inertia and silhouette score can be used to find the optimal value of clusters.\n",
    "Clusters can find natural groupings in data.\n",
    "The clusters in this lab are mostly differentiated by species and sex as shown by the groupby results and corresponding graphs.\n",
    "The elbow plot and especially the silhouette scores suggests that 6 clusters are optimal for this data.\n",
    "Having 6 clusters makes sense because the study suggests that there is sexual dimorphism (differences between the sexes) for each of the three species (2 sexes * 3 different species = 6 clusters).\n",
    "\n",
    "**What summary would you provide to stakeholders?**\n",
    "\n",
    "The K-means clustering enabled this data to be effectively grouped. It helped identify patterns that can educate team members about penguins.\n",
    "The success of the cluster results suggests that the organization can apply clustering to other projects and continue augmenting employee education.\n",
    "\n",
    "\n"
   ]
  },
  {
   "cell_type": "markdown",
   "metadata": {
    "id": "79d85ff6-30a4-469b-8861-5b9b517c89f5"
   },
   "source": [
    "### References\n",
    "\n",
    "[Gorman, Kristen B., et al. “Ecological Sexual Dimorphism and Environmental Variability within a Community of Antarctic Penguins (Genus Pygoscelis).” PLOS ONE, vol. 9, no. 3, Mar. 2014, p. e90081. PLoS Journals](https://doi.org/10.1371/journal.pone.0090081)\n",
    "\n",
    "[Sklearn Preprocessing StandardScaler scikit-learn](https://scikit-learn.org/stable/modules/generated/sklearn.preprocessing.StandardScaler.html)"
   ]
  },
  {
   "cell_type": "markdown",
   "metadata": {},
   "source": [
    "**Congratulations!** You've completed this lab. However, you may not notice a green check mark next to this item on Coursera's platform. Please continue your progress regardless of the check mark. Just click on the \"save\" icon at the top of this notebook to ensure your work has been logged"
   ]
  }
 ],
 "metadata": {
  "colab": {
   "collapsed_sections": [],
   "provenance": [],
   "toc_visible": true
  },
  "gpuClass": "standard",
  "kernelspec": {
   "display_name": "Python 3",
   "language": "python",
   "name": "python3"
  },
  "language_info": {
   "codemirror_mode": {
    "name": "ipython",
    "version": 3
   },
   "file_extension": ".py",
   "mimetype": "text/x-python",
   "name": "python",
   "nbconvert_exporter": "python",
   "pygments_lexer": "ipython3",
   "version": "3.7.6"
  }
 },
 "nbformat": 4,
 "nbformat_minor": 5
}
